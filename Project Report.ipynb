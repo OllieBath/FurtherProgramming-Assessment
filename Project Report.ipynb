{
 "cells": [
  {
   "cell_type": "markdown",
   "id": "7f74acfc",
   "metadata": {},
   "source": [
    "# Simulation of Covid-19 pandemic outbreak in community"
   ]
  },
  {
   "cell_type": "markdown",
   "id": "0a6c4b73",
   "metadata": {},
   "source": [
    "## Introduction and Aim\n",
    "\n",
    "This report is intended to explain the design and the functions of code used to create the simulations with respect to the current situation caused by covid-19. The code is designed to perform the following:\n",
    "\n",
    "-\tGet the user to input the desire value for duration and population of the plot.\n",
    "-\tDisplay an animation with moving points which simulates the transmission of covid-19 in communities (Population model)\n",
    "-\tGenerates an animating graph in respect of the simulation and shows the rate of change of the pandemic simulation (Animation graph)\n",
    "\n",
    "\n",
    "The aim of the simulation is to perform a microcosm of community pandemic outbreak, which emphasis on how interactions between people within a bounded area, would affect the infectious rate of covid 19.\n"
   ]
  },
  {
   "cell_type": "markdown",
   "id": "d7482985",
   "metadata": {},
   "source": [
    "## Design Procedure:\n",
    "\n",
    "With respect to programming code design, as the program code is expected to plot two animating simulations, a massive number of variables are required to define different features. Therefore, the program is modified and can be classified into two main class functions:\n",
    "\n",
    "-\tPerson ()\n",
    "-\tSimulation ()\n",
    "\n",
    "The Person class focus on the micro perspective of the animation. It is used to define all behaviors and status of a person, which includes generating coordinates, infected/healthy status, movements along X/Y axis etc. \n",
    "\n",
    "Alternatively, the Simulation class focus on the macro aspect of the animation. It includes creating the graph for the animations, defining colors for different status, and lopping an assigned array of Person class etc.\n",
    "\n",
    "With reference to the animation process of two graphs, the status generated in the Person class is fed into the ‘Personal model’ and ‘Animation graph’ synchronously. Therefore, the ‘Animation graph’ will react and plot when the dot of the ‘Personal model’ changes the color, as it is referring from the same data input.\n",
    "\n",
    "The processing procedure of the ‘Personal model’ program is shown in below:\n",
    "\n",
    "1.\tThe user inputs the value for duration and population\n",
    "2.\tApply into Simulation class\n",
    "3.\tAssign the input values to instance variables \n",
    "4.\tAccording to the value of population, loop and generate the amount of ‘status/behavior’ required by referring to the Person class. Assign all generated data to a personal array.\n",
    "5.\tCompare the personal array with a color code array which include the color of different states. Assign the colors to every status generated in personal array and stored it in a status array\n",
    "6.\tLoop through the Person class again to determine whether status change is required. Update the coordinates and position of the dots.\n",
    "7.\tOutput the dots in the graph by their coordinates and status assigned to color\n",
    "8.\tThe duration variable sets the number of times required to refresh the healthy/ infected status and the movements of the dot. Repeat the above steps until the accumulated amount reach the duration value\n"
   ]
  },
  {
   "cell_type": "code",
   "execution_count": null,
   "id": "dd54a96a",
   "metadata": {},
   "outputs": [],
   "source": []
  }
 ],
 "metadata": {
  "kernelspec": {
   "display_name": "Python 3 (ipykernel)",
   "language": "python",
   "name": "python3"
  },
  "language_info": {
   "codemirror_mode": {
    "name": "ipython",
    "version": 3
   },
   "file_extension": ".py",
   "mimetype": "text/x-python",
   "name": "python",
   "nbconvert_exporter": "python",
   "pygments_lexer": "ipython3",
   "version": "3.9.7"
  }
 },
 "nbformat": 4,
 "nbformat_minor": 5
}
